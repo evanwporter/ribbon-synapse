{
 "cells": [
  {
   "cell_type": "code",
   "execution_count": 1,
   "id": "1a775400-5e22-45a9-beba-37ce672f2ead",
   "metadata": {},
   "outputs": [],
   "source": [
    "import numpy as np\n",
    "from scipy.integrate import solve_ivp\n",
    "from scipy.linalg import block_diag\n",
    "import matplotlib.pyplot as plt"
   ]
  },
  {
   "cell_type": "code",
   "execution_count": 2,
   "id": "c5935112-1d41-4062-815f-2bc85dc3728c",
   "metadata": {},
   "outputs": [],
   "source": [
    "# Constants\n",
    "F = 0.096485  # Faraday constant : pC/amol\n",
    "R = 0.008314  # gas constant : fJ/amol/K\n",
    "T = 310       # temperature : K\n",
    "Cm = 1e-5     # membrane capacitance : nF/µm²\n",
    "z = np.array([1, 1, -1])  # valence : K+ Na+ Cl-\n",
    "N_A = 6.022e5 # Avogadro's number /10^18 (attomoles)"
   ]
  },
  {
   "cell_type": "code",
   "execution_count": 3,
   "id": "12a34407-c266-46e8-b4ac-fbbad79cb76f",
   "metadata": {},
   "outputs": [],
   "source": [
    "# Areas (µm²)\n",
    "A_P = 293103\n",
    "A_F = 200 * 100\n",
    "A_I = 280 * 0.020\n",
    "A_M = 280 * 5\n",
    "A_E = 55071\n",
    "A_H = 271\n",
    "A_N = 400 * 20\n",
    "dim_area = np.array([A_P, A_F, A_I, A_M, A_E, A_H, A_N])"
   ]
  },
  {
   "cell_type": "code",
   "execution_count": 4,
   "id": "f13bd68c-7f0c-4316-ae93-4435840d9b90",
   "metadata": {},
   "outputs": [],
   "source": [
    "# Lengths (µm)\n",
    "l_PF = 15 * 220\n",
    "l_FI = 25500\n",
    "l_IM = 25500\n",
    "l_ME = 280\n",
    "l_EH = 64\n",
    "l_HP = 1280\n",
    "l_EN = 400\n",
    "l_NP = 400 * 4\n",
    "l_PI = 280\n",
    "l_IE = 280\n",
    "l_EP = 2000\n",
    "dim_length = np.array([l_PF, l_FI, l_IM, l_ME, l_EH, l_HP, l_EN, l_NP, l_PI, l_IE, l_EP])"
   ]
  },
  {
   "cell_type": "code",
   "execution_count": 5,
   "id": "087b126c-dbeb-4e22-b437-5bbcac86912a",
   "metadata": {},
   "outputs": [],
   "source": [
    "# Connectivity matrix (7 x 11)\n",
    "K = np.array([\n",
    "    [-1,  0,  0,  0,  0,  1,  0,  1, -1,  0,  1],\n",
    "    [ 1, -1,  0,  0,  0,  0,  0,  0,  0,  0,  0],\n",
    "    [ 0,  1, -1,  0,  0,  0,  0,  0,  1, -1,  0],\n",
    "    [ 0,  0,  1, -1,  0,  0,  0,  0,  0,  0,  0],\n",
    "    [ 0,  0,  0,  1, -1,  0, -1,  0,  0,  1, -1],\n",
    "    [ 0,  0,  0,  0,  1, -1,  0,  0,  0,  0,  0],\n",
    "    [ 0,  0,  0,  0,  0,  0,  1, -1,  0,  0,  0]\n",
    "])"
   ]
  },
  {
   "cell_type": "code",
   "execution_count": 6,
   "id": "d75aea7b-0e48-4874-b974-a8ccd94a5123",
   "metadata": {},
   "outputs": [],
   "source": [
    "Ka = K[0:6,:]"
   ]
  },
  {
   "cell_type": "code",
   "execution_count": 7,
   "id": "fba17c20-92cf-4c68-ae52-6d2306826aaa",
   "metadata": {},
   "outputs": [],
   "source": [
    "# Loop matrix (5 x 11)\n",
    "L = np.array([\n",
    "    [ 1,  1,  1,  1,  1,  1,  0,  0,  0,  0,  0],\n",
    "    [ 0,  0,  0,  0,  1,  1, -1, -1,  0,  0,  0],\n",
    "    [ 1,  1,  0,  0,  0,  0,  0,  0, -1,  0,  0],\n",
    "    [ 0,  0,  1,  1,  0,  0,  0,  0,  0, -1,  0],\n",
    "    [ 0,  0,  0,  0,  1,  1,  0,  0,  0,  0, -1]\n",
    "])"
   ]
  },
  {
   "cell_type": "code",
   "execution_count": 8,
   "id": "d91ab144-74fc-456c-a213-7f9b1ecb47cb",
   "metadata": {},
   "outputs": [],
   "source": [
    "# Initial Conditions\n",
    "# Voltages (mV)\n",
    "v0 = np.array([5, -90, -5, 5, 150, -65, 85, 1, -85, 0, 85])\n",
    "Nv = len(v0)\n",
    "\n",
    "# K+ concentrations (mM)\n",
    "ck0 = np.array([4, 150, 3, 149, 150, 140, 150])\n",
    "\n",
    "# Na+ concentrations (mM)\n",
    "cna0 = np.array([140, 5, 100, 5, 5, 5, 5])\n",
    "\n",
    "# Cl- concentration\n",
    "cl_0 = 120\n",
    "\n",
    "# Intrastrial space volume\n",
    "w0 = dim_area[2]\n",
    "\n",
    "# All initial conditions\n",
    "x0 = np.concatenate([v0, ck0, cna0, [w0]])\n",
    "\n",
    "# Parameters\n",
    "p = np.ones(24)\n",
    "tspan = [1e-6, 1e8]"
   ]
  },
  {
   "cell_type": "code",
   "execution_count": 9,
   "id": "b8c11baa-6aa1-4b83-b86c-ae58edd9b24a",
   "metadata": {},
   "outputs": [],
   "source": [
    "def f(t, x, p):\n",
    "# Extract state variables\n",
    "    Nv = 11\n",
    "    v = x[:Nv]              # Voltages\n",
    "    ck = x[Nv:Nv+7]         # Potassium concentrations\n",
    "    cna = x[Nv+7:Nv+14]     # Sodium concentrations\n",
    "    w = x[-1]               # Intrastrial space volume\n",
    "    \n",
    "    # Initialize flux matrix for 3 ions (K+, Na+, Cl-) and 11 pathways\n",
    "    flux = np.zeros((3, 11))\n",
    "    \n",
    "    # Parameters\n",
    "    P_MET = p[0] * 0.2 * 0.229  # Permeability # NOTE: I REMOVED TIME PART SINCE STIM = 0\n",
    "    v_pump = 150\n",
    "    \n",
    "    # Sensitivities and ATP-dependent voltages\n",
    "    S_pump_MI = 4500\n",
    "    S_pump_FP = 4500\n",
    "    S_pump_HP = 100\n",
    "    S_pump_NP = 1\n",
    "    v_ATP_M = 622\n",
    "    v_ATP_F = 622\n",
    "    v_ATP_H = 450\n",
    "    v_ATP_N = 300\n",
    "    \n",
    "    # Permeabilities\n",
    "    P_Na_ME = 0.1 * 0.1678\n",
    "    P_Na_HP = 0.00001\n",
    "    P_Na_EN = 0.001\n",
    "    P_Na_NP = 0.0001\n",
    "    P_Na_EP = 0.0001\n",
    "\n",
    "    P_Kir51 = 0.15\n",
    "    Po_Kir51 = 1 / (1 + np.exp((-v[0] + 30) / 20))\n",
    "    P_Kir41 = 0.1\n",
    "    Po_Kir41 = 1 / (1 + np.exp((v[1] + 46.8) / 29.3))\n",
    "    P_Kv = 0.01\n",
    "    Po_Kv = 1 / (1 + np.exp(-(v[1] + 42.6) / 17.5))\n",
    "    P_sK = 0\n",
    "    Po_sK = 1 / (1 + np.exp(-(v[3] + 20)) / 23)\n",
    "    Po_K_HP = 1 / (1 + np.exp(-(v[5] + 50) / 15))\n",
    "    P_K_HP = 0.175 * Po_K_HP\n",
    "    P_K_EN = 0.0001\n",
    "    P_K_NP = 0.001\n",
    "    P_K_EP = 0.0001\n",
    "\n",
    "    P_Cl_PF = 0.03845\n",
    "    P_Cl_IM = 0.03845\n",
    "    \n",
    "    v_mc_pump = (S_pump_MI * p[1] / N_A * v_pump *\n",
    "        np.tanh((F / (R * T) / 2) *\n",
    "        (-v[2] + 2 * (R * T / F) * np.log(ck[2] / ck[3]) -\n",
    "        3 * (R * T / F) * np.log(cna[2] / cna[3]) +\n",
    "        v_ATP_M * p[5]))) \n",
    "\n",
    "    v_f_pump = S_pump_FP * p[2] / N_A * v_pump * np.tanh((F / (R * T)) / 2 * \n",
    "        (-v[0] + 2 * (R * T / F) * np.log(ck[0] / ck[1]) - 3 * (R * T / F) * \n",
    "        np.log(cna[0] / cna[1]) + v_ATP_F * p[6]));\n",
    "\n",
    "    v_f_nkcc = -3 * v_f_pump;\n",
    "\n",
    "    # v_h_pump calculation\n",
    "    v_h_pump = (S_pump_HP * p[3] / N_A * v_pump *\n",
    "                np.tanh((F / (R * T) / 2) *\n",
    "                (v[5] + 2 * (R * T / F) * np.log(ck[0] / ck[5]) -\n",
    "                3 * (R * T / F) * np.log(cna[0] / cna[5]) +\n",
    "                v_ATP_H * p[7])))\n",
    "\n",
    "    # v_n_pump calculation\n",
    "    v_n_pump = (S_pump_NP * p[4] / N_A * v_pump *\n",
    "                np.tanh((F / (R * T) / 2) *\n",
    "                (v[7] + 2 * (R * T / F) * np.log(ck[0] / ck[6]) -\n",
    "                3 * (R * T / F) * np.log(cna[0] / cna[6]) +\n",
    "                v_ATP_N * p[8])))\n",
    "\n",
    "    # Calculate Na+ fluxes\n",
    "    flux[0,8] = jghk(v[8], cna[0], cna[2], 0, z[0]);\n",
    "    flux[0,9] = jghk(v[9], cna[2], cna[4], 0, z[0]);\n",
    "    v_mc_nkcc = -3 * v_mc_pump + flux[0,8] - flux[0,9];\n",
    "    flux[0,0] = jghk(v[0], cna[0], cna[1], 0, z[0]) - 3 * v_f_pump - v_f_nkcc;\n",
    "    flux[0,1] = jghk(v[1], cna[1], cna[2], 0, z[0]);\n",
    "    flux[0,2] = -3 * v_mc_pump - v_mc_nkcc;\n",
    "    flux[0,3] = jghk(v[3], cna[3], cna[4], P_Na_ME * p[9], z[0]);\n",
    "    flux[0,4] = jghk(v[4], cna[4], cna[5], P_MET * 0.9, 1);\n",
    "    flux[0,5] = 3 * v_h_pump + jghk(v[5], cna[5], cna[0], P_Na_HP * p[10], z[0]);\n",
    "    flux[0,6] = jghk(v[6], cna[4], cna[6], P_Na_EN * p[11], z[0]);\n",
    "    flux[0,7] = 3 * v_n_pump + jghk(v[7], cna[6], cna[0], P_Na_NP * p[12], z[0]);\n",
    "    flux[0,10] = jghk(v[10], cna[4], cna[0], P_Na_EP * p[13], z[0]);\n",
    "    \n",
    "    # Calculate K+ fluxes\n",
    "    flux[1,0] = jghk(v[0], ck[0], ck[1], P_Kir51 * Po_Kir51 * p[14], z[1]) + 2 * v_f_pump - v_f_nkcc;\n",
    "    flux[1,1] = jghk(v[1], ck[1], ck[2], P_Kir41 * Po_Kir41 * p[15] + P_Kv * Po_Kv * p[16], z[1]);\n",
    "    flux[1,2] = jghk(v[2], ck[2], ck[3], 0, z[1]) + 2 * v_mc_pump - v_mc_nkcc;\n",
    "    flux[1,3] = jghk(v[3], ck[3], ck[4], P_sK * Po_sK * p[17], z[1]);\n",
    "    flux[1,4] = jghk(v[4], ck[4], ck[5], P_MET, z[1]);\n",
    "    flux[1,5] = -2 * v_h_pump + jghk(v[5], ck[5], ck[0], P_K_HP * p[18] * Po_K_HP, z[1]);\n",
    "    flux[1,6] = jghk(v[6], ck[4], ck[6], P_K_EN * p[19], z[1]);\n",
    "    flux[1,7] = -2 * v_n_pump + jghk(v[7], ck[6], ck[0], P_K_NP * p[20], z[1]);\n",
    "    flux[1,8] = jghk(v[8], ck[0], ck[2], 0, z[1]);\n",
    "    flux[1,9] = jghk(v[9], ck[2], ck[4], 0, z[1]);\n",
    "    flux[1,10] = jghk(v[10], ck[4], ck[0], P_K_EP * p[21], z[1]);\n",
    "    \n",
    "    # Calculate Cl- fluxes\n",
    "    flux[2,0] = jghk(v[0], 140, 120, 10 * P_Cl_PF * p[22], z[2]) - 2 * v_f_nkcc;\n",
    "    flux[2,2] = jghk(v[2], 140, cl_0, P_Cl_IM * p[23], z[2]);\n",
    "    flux[2,8] = jghk(v[8], 140, 140, 0, z[2]);\n",
    "    flux[2,9] = jghk(v[9], 140, 140, 0, z[2]);\n",
    "    flux[2,10] = jghk(v[10], 140, 140, 0, z[2]);\n",
    "\n",
    "    I_Na = (flux[0, :] * z[0] * F * dim_length);\n",
    "    I_K = (flux[1, :] * z[1] * F * dim_length);\n",
    "    I_Cl = (flux[2, :] * z[2] * F * dim_length);\n",
    "    I = I_Na + I_K + I_Cl;\n",
    "\n",
    "    fv = np.concatenate((-Ka @ I, np.dot(L, v)))\n",
    "    fk = K @ I_K;\n",
    "    fna = K @ I_Na;\n",
    "    fw = 310 - ck[2] - cna[2] - cl_0 - 10 * w0 / w\n",
    "\n",
    "    return np.hstack((fv, fk, fna, fw))"
   ]
  },
  {
   "cell_type": "code",
   "execution_count": 10,
   "id": "e63d1144-0fb5-4d44-83fa-771d7fa725cf",
   "metadata": {},
   "outputs": [],
   "source": [
    "def jghk(v, c_in, c_out, P, z):\n",
    "    F = 0.096485  # pC/amol\n",
    "    R = 0.008314  # fJ/amol/°K\n",
    "    T = 310  # °K\n",
    "    beta = z * F / R / T\n",
    "    \n",
    "    if np.isclose(1 - np.exp(-beta * v), 0):\n",
    "        j = P * (c_in - c_out)\n",
    "    elif beta * v < -500:\n",
    "        j = P * (beta * v - 1) * c_out\n",
    "    else:\n",
    "        j = P * beta * v * (c_in - c_out * np.exp(-beta * v)) / (1 - np.exp(-beta * v))\n",
    "    \n",
    "    return j\n"
   ]
  },
  {
   "cell_type": "code",
   "execution_count": 18,
   "id": "6fd00762-461a-4590-b6a9-e1fd248049b2",
   "metadata": {},
   "outputs": [],
   "source": [
    "def mass(t, x, p):\n",
    "    dim_area[2] = x[25]\n",
    "\n",
    "    Mv = np.vstack( ( \n",
    "        np.round((Ka @ np.diag(dim_length * Cm)), 4), \n",
    "        np.zeros((5,11)) \n",
    "    ) )\n",
    "    Mk = np.diag(dim_area * z[1] * F)  # K+ concentration equations\n",
    "    Mna = np.diag(dim_area * z[0] * F)  # Na+ concentration equations\n",
    "    \n",
    "    M = block_diag(Mv, Mk, Mna, 0)\n",
    "    \n",
    "    # M = block_diag(M, 0);\n",
    "    M[13, 25] = x[13] * F; # volume term in c_k ode\n",
    "    M[20, 25] = x[20] * F; # volume term in c_na ode\n",
    "    \n",
    "    return M"
   ]
  },
  {
   "cell_type": "markdown",
   "id": "785a2ca2-c98a-42e3-86cc-311999ea3cc4",
   "metadata": {},
   "source": [
    "M * dx/dt = f(t, x, p) $$"
   ]
  },
  {
   "cell_type": "code",
   "execution_count": 12,
   "id": "87bd04f4-63c4-4850-aba3-9dab3e21344b",
   "metadata": {},
   "outputs": [],
   "source": [
    "def apply_mass(t, x):\n",
    "    M = mass(t, x, p)\n",
    "    dxdt = f(t, x, p)\n",
    "    M_inv = np.linalg.pinv(M)\n",
    "    return M_inv @ dxdt"
   ]
  },
  {
   "cell_type": "markdown",
   "id": "1135ba03-1608-4371-98ce-723d5841dbfe",
   "metadata": {},
   "source": [
    "Below works though does not output same matrix as MATLAB code"
   ]
  },
  {
   "cell_type": "code",
   "execution_count": 13,
   "id": "95bdd298-1e9f-400f-9fae-549a5135b2e0",
   "metadata": {},
   "outputs": [],
   "source": [
    "sol = solve_ivp(apply_mass, tspan, x0, method='LSODA', t_eval=None, rtol=1e-7)\n",
    "\n",
    "tTemp = sol.t\n",
    "xTemp = sol.y.T\n",
    "nT = xTemp.shape[0]\n",
    "X = xTemp\n",
    "tPlot = tTemp"
   ]
  },
  {
   "cell_type": "code",
   "execution_count": 14,
   "id": "aff3ae1e-271e-4f9a-991c-4f21df1752af",
   "metadata": {},
   "outputs": [],
   "source": [
    "pythonIonChannel = X[-1]"
   ]
  },
  {
   "cell_type": "code",
   "execution_count": 15,
   "id": "6b4296e5-7a8c-4257-abf4-65a6dcda4096",
   "metadata": {},
   "outputs": [],
   "source": [
    "matlabIonChannel = np.array([\n",
    "    7.72927234041150, -81.3922341724326, 4.11772517122855, 124.340516028024, \n",
    "    4.28083447416748, -59.0761138413986, -13.5545168828377, -41.2407624843934, \n",
    "    -73.6629618320210, 128.458241199252, -54.7952793672311, 12.4015156678516, \n",
    "    191.689840041089, 9.10558947033942, 153.484609287089, 103.274031114635, \n",
    "    121.428187059021, 59.4596907841968, 128.753960304880, 5, 167.056175369980, \n",
    "    0.492209131316432, 51.7252203771861, 23.5782796056878, 95.5399443523191, \n",
    "    4.04675880658276\n",
    "])"
   ]
  },
  {
   "cell_type": "code",
   "execution_count": 16,
   "id": "cbea45e6-2d4c-4b30-9a8f-ed81c9223b56",
   "metadata": {},
   "outputs": [
    {
     "data": {
      "text/plain": [
       "array([ 2.57674661e-03, -1.55046905e+02, -5.43290746e-10, -6.01304309e+01,\n",
       "        1.64828027e+01,  2.48627722e+03,  1.51546017e+01,  4.47887922e+01,\n",
       "       -1.27132041e+01, -6.91480399e+01, -2.74019259e+02,  1.59274235e+01,\n",
       "        2.13923054e+01, -9.07507732e+00, -1.13304942e+01, -8.66619703e+01,\n",
       "       -1.21421613e+02, -3.43574014e+01, -1.73877964e+01,  7.99360578e-15,\n",
       "       -6.70118089e+01,  1.20151711e+01,  8.66653832e+01,  1.24159752e+02,\n",
       "        3.41496801e+01,  1.55073991e+00])"
      ]
     },
     "execution_count": 16,
     "metadata": {},
     "output_type": "execute_result"
    }
   ],
   "source": [
    "X[-1] - matlabIonChannel"
   ]
  },
  {
   "cell_type": "code",
   "execution_count": 17,
   "id": "77d4bc96-8bb9-402d-b36b-d87b97a82eae",
   "metadata": {},
   "outputs": [
    {
     "data": {
      "image/png": "[encoded data removed]",
      "text/plain": [
       "<Figure size 1200x600 with 1 Axes>"
      ]
     },
     "metadata": {},
     "output_type": "display_data"
    }
   ],
   "source": [
    "relative_difference = (pythonIonChannel - matlabIonChannel) / matlabIonChannel\n",
    "\n",
    "voltage_indices = range(11)\n",
    "potassium_indices = range(11, 18)\n",
    "sodium_indices = range(18, 25)\n",
    "volume_index = [25]\n",
    "\n",
    "plt.figure(figsize=(12, 6))\n",
    "bars = plt.bar(range(len(relative_difference)), relative_difference, color='skyblue')\n",
    "\n",
    "for i in voltage_indices:\n",
    "    bars[i].set_color('blue')\n",
    "for i in potassium_indices:\n",
    "    bars[i].set_color('green')\n",
    "for i in sodium_indices:\n",
    "    bars[i].set_color('red')\n",
    "bars[volume_index[0]].set_color('purple')\n",
    "\n",
    "plt.axvline(x=10.5, color='black', linestyle='--', lw=1)  # End of Voltage\n",
    "plt.axvline(x=17.5, color='black', linestyle='--', lw=1)  # End of Potassium Concentration\n",
    "plt.axvline(x=24.5, color='black', linestyle='--', lw=1)  # End of Sodium Concentration\n",
    "\n",
    "plt.text(5, max(relative_difference) * 1.1, 'Voltage', horizontalalignment='center', fontsize=12)\n",
    "plt.text(14, max(relative_difference) * 1.1, 'Potassium Concentration', horizontalalignment='center', fontsize=12)\n",
    "plt.text(21, max(relative_difference) * 1.1, 'Sodium Concentration', horizontalalignment='center', fontsize=12)\n",
    "plt.text(25.7, max(relative_difference) * 1.1, 'Volume', horizontalalignment='center', fontsize=12)\n",
    "\n",
    "plt.xlabel('Element Index')\n",
    "plt.ylabel('Relative Difference')\n",
    "plt.title('Relative Difference Between Python ODE & MATLAB ODE')\n",
    "plt.axhline(0, color='grey', linestyle='--')\n",
    "plt.ylim([min(relative_difference) * 1.2, max(relative_difference) * 1.2])\n",
    "plt.show()"
   ]
  },
  {
   "cell_type": "markdown",
   "id": "f99d4847-3c86-407a-89b4-c104c8a1e391",
   "metadata": {},
   "source": [
    "Gives ValueError: array must not contain infs or NaNs"
   ]
  },
  {
   "cell_type": "code",
   "execution_count": null,
   "id": "7f108eb0-91ec-46b9-a1af-4b7cbe95e1b8",
   "metadata": {},
   "outputs": [],
   "source": [
    "sol = solve_ivp(\n",
    "    fun=apply_mass,\n",
    "    t_span=tspan,\n",
    "    y0=x0,\n",
    "    method='Radau',\n",
    "    rtol=1e7,\n",
    ")"
   ]
  }
 ],
 "metadata": {
  "kernelspec": {
   "display_name": "Python 3 (ipykernel)",
   "language": "python",
   "name": "python3"
  },
  "language_info": {
   "codemirror_mode": {
    "name": "ipython",
    "version": 3
   },
   "file_extension": ".py",
   "mimetype": "text/x-python",
   "name": "python",
   "nbconvert_exporter": "python",
   "pygments_lexer": "ipython3",
   "version": "3.12.3"
  }
 },
 "nbformat": 4,
 "nbformat_minor": 5
}
